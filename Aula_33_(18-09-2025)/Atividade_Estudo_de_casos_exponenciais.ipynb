{
 "cells": [
  {
   "cell_type": "markdown",
   "id": "cb025a93",
   "metadata": {},
   "source": [
    "# Estudo de casos exponenciais"
   ]
  },
  {
   "cell_type": "code",
   "execution_count": 1,
   "id": "4b758740",
   "metadata": {},
   "outputs": [],
   "source": [
    "\n",
    "import numpy as np\n",
    "import pandas as pd\n",
    "import matplotlib.pyplot as plt\n"
   ]
  },
  {
   "cell_type": "code",
   "execution_count": 2,
   "id": "6f7b26db",
   "metadata": {},
   "outputs": [],
   "source": [
    "\n",
    "def ajuste_exponencial(dados, taxas, lambda_ridge=None):\n",
    "    tempo = dados[\"t\"].values\n",
    "    sinal = dados[\"y\"].values\n",
    "    # matriz Phi\n",
    "    Phi = np.exp(-np.outer(tempo, taxas))\n",
    "    # G e b\n",
    "    G = Phi.T @ Phi\n",
    "    b = Phi.T @ sinal\n",
    "    # resolver OLS ou Ridge\n",
    "    if lambda_ridge is None:\n",
    "        pesos = np.linalg.solve(G, b)\n",
    "    else:\n",
    "        pesos = np.linalg.solve(G + lambda_ridge*np.eye(len(taxas)), b)\n",
    "    # previsões e resíduos\n",
    "    previsao = Phi @ pesos\n",
    "    residuos = sinal - previsao\n",
    "    rmse = np.sqrt(np.mean(residuos**2))\n",
    "    return pesos, previsao, residuos, rmse\n"
   ]
  },
  {
   "cell_type": "code",
   "execution_count": 3,
   "id": "e44eef84",
   "metadata": {},
   "outputs": [],
   "source": [
    "\n",
    "arquivo_2 = \"Alan Diek da Silva Guimaraes - expmix_2terms_noisy.csv\"\n",
    "arquivo_10 = \"Alan Diek da Silva Guimaraes - expmix_10terms_noisy.csv\"\n",
    "arquivo_8 = \"Alan Diek da Silva Guimaraes - expdecay_8terms_noisy.csv\"\n",
    "\n",
    "dados_2 = pd.read_csv(arquivo_2)\n",
    "dados_10 = pd.read_csv(arquivo_10)\n",
    "dados_8 = pd.read_csv(arquivo_8)\n"
   ]
  },
  {
   "cell_type": "code",
   "execution_count": 4,
   "id": "d046dfc5",
   "metadata": {},
   "outputs": [],
   "source": [
    "\n",
    "taxas_2 = [0.3, 1.1]\n",
    "taxas_10 = [0.15,0.28,0.4,0.55,0.7,0.9,1.2,1.6,2.2,3.0]\n",
    "taxas_8 = np.logspace(-3,1,30)\n"
   ]
  },
  {
   "cell_type": "markdown",
   "id": "c9067605",
   "metadata": {},
   "source": [
    "## Resolução: expmix_2terms_noisy"
   ]
  },
  {
   "cell_type": "code",
   "execution_count": 5,
   "id": "0723f095",
   "metadata": {},
   "outputs": [
    {
     "name": "stdout",
     "output_type": "stream",
     "text": [
      "=== Ajuste para expmix_2terms_noisy ===\n",
      "Coeficiente w1: 1.83\n",
      "Coeficiente w2: 0.79\n",
      "RMSE: 0.09\n"
     ]
    }
   ],
   "source": [
    "\n",
    "pesos2, previsao2, residuos2, rmse2 = ajuste_exponencial(dados_2, taxas_2)\n",
    "\n",
    "print(\"=== Ajuste para expmix_2terms_noisy ===\")\n",
    "for i, p in enumerate(pesos2, start=1):\n",
    "    print(f\"Coeficiente w{i}: {p:.2f}\")\n",
    "print(f\"RMSE: {rmse2:.2f}\")\n"
   ]
  },
  {
   "cell_type": "markdown",
   "id": "23bea994",
   "metadata": {},
   "source": [
    "## Resolução: expmix_10terms_noisy"
   ]
  },
  {
   "cell_type": "code",
   "execution_count": 6,
   "id": "cf0b3bc4",
   "metadata": {},
   "outputs": [
    {
     "name": "stdout",
     "output_type": "stream",
     "text": [
      "=== Ajuste para expmix_10terms_noisy ===\n",
      "Coeficiente w1: 78.02\n",
      "Coeficiente w2: -903.48\n",
      "Coeficiente w3: 3315.65\n",
      "Coeficiente w4: -7417.90\n",
      "Coeficiente w5: 9004.00\n",
      "Coeficiente w6: -5875.77\n",
      "Coeficiente w7: 2414.19\n",
      "Coeficiente w8: -736.29\n",
      "Coeficiente w9: 146.99\n",
      "Coeficiente w10: -19.81\n",
      "RMSE: 0.05\n"
     ]
    }
   ],
   "source": [
    "\n",
    "pesos10, previsao10, residuos10, rmse10 = ajuste_exponencial(dados_10, taxas_10)\n",
    "\n",
    "print(\"=== Ajuste para expmix_10terms_noisy ===\")\n",
    "for i, p in enumerate(pesos10, start=1):\n",
    "    print(f\"Coeficiente w{i}: {p:.2f}\")\n",
    "print(f\"RMSE: {rmse10:.2f}\")\n"
   ]
  },
  {
   "cell_type": "markdown",
   "id": "7a20e279",
   "metadata": {},
   "source": [
    "## Resolução: expdecay_8terms_noisy"
   ]
  },
  {
   "cell_type": "code",
   "execution_count": 7,
   "id": "af02fc72",
   "metadata": {},
   "outputs": [
    {
     "name": "stdout",
     "output_type": "stream",
     "text": [
      "=== Ajuste para expdecay_8terms_noisy ===\n",
      "Coeficiente w1: -43608.27\n",
      "Coeficiente w2: 48443.97\n",
      "Coeficiente w3: -5760.02\n",
      "Coeficiente w4: 14820.90\n",
      "Coeficiente w5: -22159.41\n",
      "Coeficiente w6: -40331.95\n",
      "Coeficiente w7: -5943.36\n",
      "Coeficiente w8: 47192.92\n",
      "Coeficiente w9: 11261.60\n",
      "Coeficiente w10: 26142.97\n",
      "...\n",
      "Total de coeficientes: 30\n",
      "RMSE: 0.04\n"
     ]
    }
   ],
   "source": [
    "\n",
    "pesos8, previsao8, residuos8, rmse8 = ajuste_exponencial(dados_8, taxas_8)\n",
    "\n",
    "print(\"=== Ajuste para expdecay_8terms_noisy ===\")\n",
    "for i, p in enumerate(pesos8[:10], start=1):\n",
    "    print(f\"Coeficiente w{i}: {p:.2f}\")\n",
    "print(\"...\")\n",
    "print(f\"Total de coeficientes: {len(pesos8)}\")\n",
    "print(f\"RMSE: {rmse8:.2f}\")\n"
   ]
  },
  {
   "cell_type": "markdown",
   "id": "057b3024",
   "metadata": {},
   "source": [
    "## Resumo dos Resultados"
   ]
  },
  {
   "cell_type": "code",
   "execution_count": 8,
   "id": "8832dac0",
   "metadata": {},
   "outputs": [
    {
     "name": "stdout",
     "output_type": "stream",
     "text": [
      "Resumo comparativo dos RMSE:\n"
     ]
    },
    {
     "data": {
      "text/html": [
       "<div>\n",
       "<style scoped>\n",
       "    .dataframe tbody tr th:only-of-type {\n",
       "        vertical-align: middle;\n",
       "    }\n",
       "\n",
       "    .dataframe tbody tr th {\n",
       "        vertical-align: top;\n",
       "    }\n",
       "\n",
       "    .dataframe thead th {\n",
       "        text-align: right;\n",
       "    }\n",
       "</style>\n",
       "<table border=\"1\" class=\"dataframe\">\n",
       "  <thead>\n",
       "    <tr style=\"text-align: right;\">\n",
       "      <th></th>\n",
       "      <th>Caso</th>\n",
       "      <th>n_taxas</th>\n",
       "      <th>RMSE</th>\n",
       "    </tr>\n",
       "  </thead>\n",
       "  <tbody>\n",
       "    <tr>\n",
       "      <th>0</th>\n",
       "      <td>2 termos</td>\n",
       "      <td>2</td>\n",
       "      <td>0.09</td>\n",
       "    </tr>\n",
       "    <tr>\n",
       "      <th>1</th>\n",
       "      <td>10 termos</td>\n",
       "      <td>10</td>\n",
       "      <td>0.05</td>\n",
       "    </tr>\n",
       "    <tr>\n",
       "      <th>2</th>\n",
       "      <td>8 termos (30 taxas logspace)</td>\n",
       "      <td>30</td>\n",
       "      <td>0.04</td>\n",
       "    </tr>\n",
       "  </tbody>\n",
       "</table>\n",
       "</div>"
      ],
      "text/plain": [
       "                           Caso  n_taxas  RMSE\n",
       "0                      2 termos        2  0.09\n",
       "1                     10 termos       10  0.05\n",
       "2  8 termos (30 taxas logspace)       30  0.04"
      ]
     },
     "metadata": {},
     "output_type": "display_data"
    }
   ],
   "source": [
    "\n",
    "resumo = pd.DataFrame({\n",
    "    \"Caso\": [\"2 termos\", \"10 termos\", \"8 termos (30 taxas logspace)\"],\n",
    "    \"n_taxas\": [len(taxas_2), len(taxas_10), len(taxas_8)],\n",
    "    \"RMSE\": [f\"{rmse2:.2f}\", f\"{rmse10:.2f}\", f\"{rmse8:.2f}\"]\n",
    "})\n",
    "print(\"Resumo comparativo dos RMSE:\")\n",
    "display(resumo)\n"
   ]
  },
  {
   "cell_type": "markdown",
   "id": "65acf3ab",
   "metadata": {},
   "source": [
    "## Visualização dos Dados"
   ]
  },
  {
   "cell_type": "code",
   "execution_count": 9,
   "id": "cd46cbd2",
   "metadata": {},
   "outputs": [
    {
     "data": {
      "image/png": "[encoded data removed]",
      "text/plain": [
       "<Figure size 1500x400 with 3 Axes>"
      ]
     },
     "metadata": {},
     "output_type": "display_data"
    }
   ],
   "source": [
    "\n",
    "fig, axes = plt.subplots(1, 3, figsize=(15,4))\n",
    "\n",
    "axes[0].scatter(dados_2[\"t\"], dados_2[\"y\"], label=\"Dados\", s=10)\n",
    "axes[0].plot(dados_2[\"t\"], previsao2, c=\"r\", label=\"Ajuste\")\n",
    "axes[0].set_title(\"2 termos\")\n",
    "axes[0].legend()\n",
    "\n",
    "axes[1].scatter(dados_10[\"t\"], dados_10[\"y\"], label=\"Dados\", s=10)\n",
    "axes[1].plot(dados_10[\"t\"], previsao10, c=\"r\", label=\"Ajuste\")\n",
    "axes[1].set_title(\"10 termos\")\n",
    "axes[1].legend()\n",
    "\n",
    "axes[2].scatter(dados_8[\"t\"], dados_8[\"y\"], label=\"Dados\", s=10)\n",
    "axes[2].plot(dados_8[\"t\"], previsao8, c=\"r\", label=\"Ajuste\")\n",
    "axes[2].set_title(\"8 termos (30 taxas)\")\n",
    "axes[2].legend()\n",
    "\n",
    "plt.show()\n"
   ]
  }
 ],
 "metadata": {
  "kernelspec": {
   "display_name": ".venv (3.11.9)",
   "language": "python",
   "name": "python3"
  },
  "language_info": {
   "codemirror_mode": {
    "name": "ipython",
    "version": 3
   },
   "file_extension": ".py",
   "mimetype": "text/x-python",
   "name": "python",
   "nbconvert_exporter": "python",
   "pygments_lexer": "ipython3",
   "version": "3.11.9"
  }
 },
 "nbformat": 4,
 "nbformat_minor": 5
}
