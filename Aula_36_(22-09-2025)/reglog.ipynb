{
  "cells": [
    {
      "cell_type": "code",
      "execution_count": 21,
      "metadata": {
        "id": "8_Dh10SgCO6E"
      },
      "outputs": [],
      "source": [
        "import numpy as np\n",
        "import pandas as pd\n",
        "import matplotlib.pyplot as plt\n"
      ]
    },
    {
      "cell_type": "code",
      "execution_count": 22,
      "metadata": {
        "id": "gNT3zZelDhKt"
      },
      "outputs": [],
      "source": [
        "rng = np.random.default_rng(7)"
      ]
    },
    {
      "cell_type": "code",
      "execution_count": 23,
      "metadata": {
        "id": "2Bz7z05lDmS9"
      },
      "outputs": [],
      "source": [
        "def geralinear(n=200):\n",
        "  mean0= np.array([-1.2, -1.0])\n",
        "  mean1= np.array([1.1, 1.0])\n",
        "  X0 = rng.normal(mean0, [0.6,0.6], size=(n, 2))\n",
        "  X1 = rng.normal(mean1, [0.6,0.6], size=(n, 2))\n",
        "\n",
        "  X = np.vstack((X0, X1))\n",
        "\n",
        "  y = np.concatenate((np.zeros(n), np.ones(n)))\n",
        "  return X, y\n"
      ]
    },
    {
      "cell_type": "code",
      "execution_count": 24,
      "metadata": {
        "colab": {
          "base_uri": "https://localhost:8080/"
        },
        "id": "RijWyPUOE0jI",
        "outputId": "dda7ca91-bbc6-467d-afc5-956fe88b72ee"
      },
      "outputs": [
        {
          "name": "stdout",
          "output_type": "stream",
          "text": [
            "[[-1.19926191 -0.82075268]\n",
            " [-1.36448271 -1.5343551 ]\n",
            " [-1.47280247 -1.59498793]\n",
            " [ 1.13608616  1.80412915]\n",
            " [ 0.80467609  0.62771506]\n",
            " [ 1.39390523  1.2141322 ]]\n",
            "[0. 0. 0. 1. 1. 1.]\n"
          ]
        }
      ],
      "source": [
        "x,y=geralinear(3)\n",
        "\n",
        "print(x)\n",
        "print(y)"
      ]
    },
    {
      "cell_type": "code",
      "execution_count": 25,
      "metadata": {
        "colab": {
          "base_uri": "https://localhost:8080/",
          "height": 430
        },
        "id": "Bq62oD7MFQEd",
        "outputId": "4c1e5be1-f4ec-4c41-f53c-8a1776de7580"
      },
      "outputs": [
        {
          "data": {
            "image/png": "[encoded data removed]",
            "text/plain": [
              "<Figure size 640x480 with 1 Axes>"
            ]
          },
          "metadata": {},
          "output_type": "display_data"
        }
      ],
      "source": [
        "plt.scatter(x[:,0], x[:,1], c=y)\n",
        "plt.show()"
      ]
    },
    {
      "cell_type": "code",
      "execution_count": 32,
      "metadata": {
        "id": "WxfiMnreFrnS"
      },
      "outputs": [],
      "source": [
        "def designmatrix(X, grau):\n",
        "  X = np.asarray(X, float)\n",
        "  x1 = X[:,0:1]\n",
        "  x2 = X[:, 1:1+1]\n",
        "  cols = [np.ones((X.shape[0],1))]\n",
        "  for i in range(grau+1):\n",
        "    for j in range(grau+1-i):\n",
        "      if i==0 and j==0:\n",
        "        continue\n",
        "      cols.append(x1**i * x2**j)\n",
        "  return np.hstack(cols)\n",
        "\n"
      ]
    },
    {
      "cell_type": "code",
      "execution_count": 33,
      "metadata": {},
      "outputs": [
        {
          "data": {
            "text/plain": [
              "array([[ 1.        , -0.82075268,  0.67363496, -0.5528877 , -1.19926191,\n",
              "         0.98429742, -0.80786474,  1.43822912, -1.1804304 , -1.7248134 ],\n",
              "       [ 1.        , -1.5343551 ,  2.35424558, -3.61224872, -1.36448271,\n",
              "         2.09360101, -3.2123274 ,  1.86181307, -2.85668239, -2.54041176],\n",
              "       [ 1.        , -1.59498793,  2.54398651, -4.05762778, -1.47280247,\n",
              "         2.34910217, -3.74678961,  2.16914712, -3.45976348, -3.19472524],\n",
              "       [ 1.        ,  1.80412915,  3.25488198,  5.87222745,  1.13608616,\n",
              "         2.04964616,  3.69782638,  1.29069177,  2.32857464,  1.46633705],\n",
              "       [ 1.        ,  0.62771506,  0.3940262 ,  0.24733618,  0.80467609,\n",
              "         0.5051073 ,  0.31706346,  0.64750361,  0.40644777,  0.52103067],\n",
              "       [ 1.        ,  1.2141322 ,  1.47411701,  1.78977294,  1.39390523,\n",
              "         1.69238523,  2.05477941,  1.94297179,  2.35902462,  2.70831854]])"
            ]
          },
          "execution_count": 33,
          "metadata": {},
          "output_type": "execute_result"
        }
      ],
      "source": [
        "designmatrix(x, 3)\n"
      ]
    },
    {
      "cell_type": "code",
      "execution_count": null,
      "metadata": {
        "id": "VynHum_3HInO"
      },
      "outputs": [],
      "source": [
        "def traintestsplit(X, y, test_size=0.20, seed=7):\n",
        "  n= len(y)\n",
        "  idx0 = np.where(y==0)[0]\n",
        "  idx1 = np.where(y==1)[0]\n",
        "  rng.shuffle(idx0)\n",
        "  rng.shuffle(idx1)\n",
        "  n0_te = int(round(test_size* len(idx0)))\n",
        "  n1_te = int(round(test_size* len(idx1)))\n",
        "  te_idx = np.concatenate((idx0[:n0_te], idx1[:n1_te]))\n",
        "  tr_idx = np.concatenate((idx0[n0_te:], idx1[n1_te:]))\n",
        "\n",
        "  rng.shuffle(te_idx)\n",
        "  rng.shuffle(tr_idx)\n",
        "\n",
        "  return X[tr_idx], X[te_idx], y[tr_idx], y[te_idx]\n",
        "\n"
      ]
    },
    {
      "cell_type": "code",
      "execution_count": null,
      "metadata": {
        "id": "3tRVZXS_Jra3"
      },
      "outputs": [],
      "source": [
        "x,y = geralinear(n=10)\n",
        "X_train, X_test, y_train, y_test = traintestsplit(x,y)"
      ]
    },
    {
      "cell_type": "code",
      "execution_count": null,
      "metadata": {
        "colab": {
          "base_uri": "https://localhost:8080/",
          "height": 430
        },
        "id": "7u03cqdfJ5re",
        "outputId": "9a0d8cd3-76d6-463b-d0e2-bc43fb43a823"
      },
      "outputs": [
        {
          "data": {
            "image/png": "[encoded data removed]",
            "text/plain": [
              "<Figure size 640x480 with 1 Axes>"
            ]
          },
          "metadata": {},
          "output_type": "display_data"
        }
      ],
      "source": [
        "plt.scatter(X_train[:,0], X_train[:,1], c=y_train)\n",
        "plt.scatter(X_test[:,0], X_test[:,1])\n",
        "plt.show()"
      ]
    }
  ],
  "metadata": {
    "colab": {
      "provenance": []
    },
    "kernelspec": {
      "display_name": ".venv (3.13.7)",
      "language": "python",
      "name": "python3"
    },
    "language_info": {
      "codemirror_mode": {
        "name": "ipython",
        "version": 3
      },
      "file_extension": ".py",
      "mimetype": "text/x-python",
      "name": "python",
      "nbconvert_exporter": "python",
      "pygments_lexer": "ipython3",
      "version": "3.13.7"
    }
  },
  "nbformat": 4,
  "nbformat_minor": 0
}
