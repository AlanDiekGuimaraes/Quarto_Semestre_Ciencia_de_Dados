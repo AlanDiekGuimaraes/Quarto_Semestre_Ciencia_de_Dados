{
 "cells": [
  {
   "cell_type": "markdown",
   "id": "78015e37",
   "metadata": {},
   "source": [
    "# Aula 50 - (09/10/2025)"
   ]
  },
  {
   "cell_type": "markdown",
   "id": "a30e266c",
   "metadata": {},
   "source": [
    "## Neurônio Paraconsistente Simples "
   ]
  },
  {
   "cell_type": "code",
   "execution_count": 5,
   "id": "f7d46541",
   "metadata": {},
   "outputs": [],
   "source": [
    "''' O neurônio paraconsistente NÃO faz a soma ponderada tradicional. \n",
    "Em vez disso, ele processa os graus de evidencia e falsidade para entender\n",
    "o estado lógico do sinal.\n",
    "'''\n",
    "\n",
    "def neuronio_paraconsistente(grau_evidencia_mu, grau_falsidade_lambda):\n",
    "    print(f\"-> SINAL DE ENTRADA: Evidência (mu)= {grau_evidencia_mu}, Falsidade (lambda)= {grau_falsidade_lambda:.2f}\")\n",
    "   \n",
    "    grau_certeza = grau_evidencia_mu - grau_falsidade_lambda\n",
    "    \n",
    "    grau_contradicao = grau_evidencia_mu + grau_falsidade_lambda - 1\n",
    "    \n",
    "    estado_logico = \"Indefinido\"\n",
    "    \n",
    "    # Condição 1 - Verdadeiro\n",
    "    if grau_certeza > 0.5 and grau_contradicao < 0.1:\n",
    "        estado_logico = \"Verdadeiro: Forte evidência, baixa contradição\"\n",
    "    \n",
    "    # Condição 2 - Falso\n",
    "    elif grau_certeza < -0.5 and grau_contradicao < 0.1:\n",
    "        estado_logico = \"Falso: Forte falsidade e baixa contradição\"\n",
    "        \n",
    "    # Condição 3 - Incerteza\n",
    "    elif abs(grau_certeza) < 0.2 and grau_contradicao < 0.1:\n",
    "        estado_logico = \"Incerteza: Evidência e falsidade se anulam\"\n",
    "\n",
    "    # Condição 4 - Contradição\n",
    "    elif grau_contradicao >= 0.5:\n",
    "        estado_logico = \"Contraditório: Evidência e falsidade são altas simultaneamente\"\n",
    "    \n",
    "    print(\"-\" * 50)\n",
    "    print(f\"-> Grau de Certeza (G): {grau_certeza:.2f} (intervalor: [-1, +1])\")\n",
    "    print(f\"-> Grau de Contradição (D): {grau_contradicao:.2f} (intervalor: [-1, +1])\")\n",
    "    print(f\"-> Estado Lógico: {estado_logico} \\n\")\n",
    "    print(\"-\" * 50)\n",
    "    return grau_certeza, grau_contradicao\n",
    "\n",
    "    "
   ]
  },
  {
   "cell_type": "code",
   "execution_count": null,
   "id": "fc44ee90",
   "metadata": {},
   "outputs": [
    {
     "name": "stdout",
     "output_type": "stream",
     "text": [
      "-> SINAL DE ENTRADA: Evidência (mu)= 0.6, Falsidade (lambda)= 0.60\n",
      "--------------------------------------------------\n",
      "-> Grau de Certeza (G): 0.00 (intervalor: [-1, +1])\n",
      "-> Grau de Contradição (D): 0.20 (intervalor: [-1, +1])\n",
      "-> Estado Lógico: Indefinido \n",
      "\n",
      "--------------------------------------------------\n"
     ]
    },
    {
     "data": {
      "text/plain": [
       "(0.0, 0.19999999999999996)"
      ]
     },
     "execution_count": 8,
     "metadata": {},
     "output_type": "execute_result"
    }
   ],
   "source": [
    "neuronio_paraconsistente(0.6, 0.6)  "
   ]
  },
  {
   "cell_type": "markdown",
   "id": "c81ff0de",
   "metadata": {},
   "source": [
    "## Rede Neural Paraconsistente (RNP)"
   ]
  },
  {
   "cell_type": "code",
   "execution_count": 9,
   "id": "43634260",
   "metadata": {},
   "outputs": [],
   "source": [
    "def calcular_graus_paraconsistentes(grau_evidencia_mu, grau_falsidade_lambda): # Retorna os graus G e D\n",
    "    G = grau_evidencia_mu - grau_falsidade_lambda \n",
    "    D = grau_evidencia_mu + grau_falsidade_lambda - 1\n",
    "    return G, D\n",
    "\n",
    "def ativacao_np_composicao(g1, d1, g2, d2):\n",
    "    G_final = min(g1, g2)\n",
    "    D_final = max(d1, d2)\n",
    "    return G_final, D_final\n",
    "\n",
    "def rede_neural_paraconsistente(mu_A, lambda_A, mu_B, lambda_B):\n",
    "    print(f\"--- Processando Sinais: A(E: {mu_A:.2f}, F: {lambda_A:.2f}) e B(E: {mu_B:.2f}, F: {lambda_B:.2f}) ---\")\n",
    "    \n",
    "    # Camadas ocultas\n",
    "    \n",
    "    # NP1: Processa o Sinal A\n",
    "    G1, D1 = calcular_graus_paraconsistentes(mu_A, lambda_A)\n",
    "    print(f\"> NP1 A: Certeza G={G1:.2f}, Contradição D={D1:.2f}\")\n",
    "\n",
    "    # NP2: Processa o Sinal B\n",
    "    G2, D2 = calcular_graus_paraconsistentes(mu_B, lambda_B)\n",
    "    print(f\"> NP2 B: Certeza G={G2:.2f}, Contradição D={D2:.2f}\")\n",
    "\n",
    "    # NP3: Recebe g1, d1, g2, d2 e aplica a composição (and)\n",
    "    G_final, D_final = ativacao_np_composicao(G1, D1, G2, D2)\n",
    "    print(\"-\" * 50)\n",
    "    print(f\"-> NP3 (SAÍDA FINAL)\")\n",
    "    print(f\"-> Grau de Certeza FINAL (G): {G_final:.2f}\")\n",
    "    print(f\"-> Grau de Contradição FINAL (D): {D_final:.2f}\")\n",
    "    print(\"-\" * 50)\n",
    "    \n",
    "    if G_final > 0.5 and D_final < 0.1:\n",
    "        estado_logico = \"V (Verdadeiro): Forte certeza, baixa contradição\"\n",
    "    elif G_final < -0.5 and D_final < 0.1:\n",
    "        estado_logico = \"F (Falso): Forte falsidade, baixa contradição\"\n",
    "    elif D_final >= 0.5:\n",
    "        estado_logico = \"⊥ (Contraditório): Alta contradição - O sistema é inconsistente\"\n",
    "    else:\n",
    "        estado_logico = \"I (Indefinido ou Inconsistência - Neutralidade ou incerteza)\"\n",
    "    \n",
    "    print(f\"-> ESTADO LÓGICO DA REDE: {estado_logico} \\n\")\n",
    "    \n",
    "    return G_final, D_final\n",
    "    \n"
   ]
  },
  {
   "cell_type": "code",
   "execution_count": 10,
   "id": "039292dd",
   "metadata": {},
   "outputs": [
    {
     "name": "stdout",
     "output_type": "stream",
     "text": [
      "--- Processando Sinais: A(E: 0.90, F: 0.10) e B(E: 0.80, F: 0.10) ---\n",
      "> NP1 A: Certeza G=0.80, Contradição D=0.00\n",
      "> NP2 B: Certeza G=0.70, Contradição D=-0.10\n",
      "--------------------------------------------------\n",
      "-> NP3 (SAÍDA FINAL)\n",
      "-> Grau de Certeza FINAL (G): 0.70\n",
      "-> Grau de Contradição FINAL (D): 0.00\n",
      "--------------------------------------------------\n",
      "-> ESTADO LÓGICO DA REDE: V (Verdadeiro): Forte certeza, baixa contradição \n",
      "\n"
     ]
    },
    {
     "data": {
      "text/plain": [
       "(0.7000000000000001, 0.0)"
      ]
     },
     "execution_count": 10,
     "metadata": {},
     "output_type": "execute_result"
    }
   ],
   "source": [
    "rede_neural_paraconsistente(0.9, 0.1, 0.8, 0.1)"
   ]
  }
 ],
 "metadata": {
  "kernelspec": {
   "display_name": ".venv (3.13.7)",
   "language": "python",
   "name": "python3"
  },
  "language_info": {
   "codemirror_mode": {
    "name": "ipython",
    "version": 3
   },
   "file_extension": ".py",
   "mimetype": "text/x-python",
   "name": "python",
   "nbconvert_exporter": "python",
   "pygments_lexer": "ipython3",
   "version": "3.13.7"
  }
 },
 "nbformat": 4,
 "nbformat_minor": 5
}
