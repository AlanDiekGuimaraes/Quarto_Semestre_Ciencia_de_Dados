{
 "cells": [
  {
   "cell_type": "code",
   "execution_count": 5,
   "id": "e3b407f2",
   "metadata": {},
   "outputs": [],
   "source": [
    "import numpy as np"
   ]
  },
  {
   "cell_type": "code",
   "execution_count": 12,
   "id": "a1e2920e",
   "metadata": {},
   "outputs": [],
   "source": [
    "def gauss_jordan(A, b):\n",
    "    \n",
    "    A = np.array(A, dtype=float)\n",
    "    b = np.array(b, dtype=float)\n",
    "    n = A.shape[0]\n",
    "    M = np.hstack([A, b])\n",
    "    \n",
    "    \n",
    "    for l in range(n):\n",
    "        pivot = M[l, l]\n",
    "        if abs(pivot) < 1e-12:\n",
    "            continue\n",
    "        \n",
    "        fator = pivot\n",
    "        M[l, :] = M[l, :] / fator\n",
    "        print(f\"\\n Trabalhando na coluna {l}\")\n",
    "        print(f\"L{l} <- L{l} / {fator}\")\n",
    "        print(M)\n",
    "        \n",
    "        for ll in range(n):\n",
    "            if ll == l:\n",
    "                continue\n",
    "            f = M[ll, l]\n",
    "            M[ll, :] = M[ll, :] - f * M[l, :]\n",
    "        \n",
    "            print(f\"\\n Trabalhando na coluna {l}\")\n",
    "            print(f\"L{ll} <- L{ll} - {f} L{l}\")\n",
    "            print(M)\n",
    "    \n",
    "    w = M[:, -1]\n",
    "    return w, M\n",
    "\n"
   ]
  },
  {
   "cell_type": "code",
   "execution_count": 13,
   "id": "0e3165c3",
   "metadata": {},
   "outputs": [
    {
     "name": "stdout",
     "output_type": "stream",
     "text": [
      "[[ 1  1  1]\n",
      " [ 2  3  7]\n",
      " [ 1 -1  2]]\n",
      "[[ 6]\n",
      " [20]\n",
      " [ 4]]\n"
     ]
    }
   ],
   "source": [
    "A = np.array([[1, 1, 1], [2, 3, 7], [1, -1, 2]])\n",
    "\n",
    "b = np.array([[6], [20], [4]])\n",
    "\n",
    "print(A)\n",
    "print(b)"
   ]
  },
  {
   "cell_type": "code",
   "execution_count": null,
   "id": "18418704",
   "metadata": {},
   "outputs": [
    {
     "name": "stdout",
     "output_type": "stream",
     "text": [
      "\n",
      " Trabalhando na coluna 0\n",
      "L0 <- L0 / 1.0\n",
      "[[ 1.  1.  1.  6.]\n",
      " [ 2.  3.  7. 20.]\n",
      " [ 1. -1.  2.  4.]]\n",
      "\n",
      " Trabalhando na coluna 0\n",
      "L1 <- L1 - 2.0 L0\n",
      "[[ 1.  1.  1.  6.]\n",
      " [ 0.  1.  5.  8.]\n",
      " [ 1. -1.  2.  4.]]\n",
      "\n",
      " Trabalhando na coluna 0\n",
      "L2 <- L2 - 1.0 L0\n",
      "[[ 1.  1.  1.  6.]\n",
      " [ 0.  1.  5.  8.]\n",
      " [ 0. -2.  1. -2.]]\n",
      "\n",
      " Trabalhando na coluna 1\n",
      "L1 <- L1 / 1.0\n",
      "[[ 1.  1.  1.  6.]\n",
      " [ 0.  1.  5.  8.]\n",
      " [ 0. -2.  1. -2.]]\n",
      "\n",
      " Trabalhando na coluna 1\n",
      "L0 <- L0 - 1.0 L1\n",
      "[[ 1.  0. -4. -2.]\n",
      " [ 0.  1.  5.  8.]\n",
      " [ 0. -2.  1. -2.]]\n",
      "\n",
      " Trabalhando na coluna 1\n",
      "L2 <- L2 - -2.0 L1\n",
      "[[ 1.  0. -4. -2.]\n",
      " [ 0.  1.  5.  8.]\n",
      " [ 0.  0. 11. 14.]]\n",
      "\n",
      " Trabalhando na coluna 2\n",
      "L2 <- L2 / 11.0\n",
      "[[ 1.          0.         -4.         -2.        ]\n",
      " [ 0.          1.          5.          8.        ]\n",
      " [ 0.          0.          1.          1.27272727]]\n",
      "\n",
      " Trabalhando na coluna 2\n",
      "L0 <- L0 - -4.0 L2\n",
      "[[1.         0.         0.         3.09090909]\n",
      " [0.         1.         5.         8.        ]\n",
      " [0.         0.         1.         1.27272727]]\n",
      "\n",
      " Trabalhando na coluna 2\n",
      "L1 <- L1 - 5.0 L2\n",
      "[[1.         0.         0.         3.09090909]\n",
      " [0.         1.         0.         1.63636364]\n",
      " [0.         0.         1.         1.27272727]]\n",
      "[3.09090909 1.63636364 1.27272727]\n"
     ]
    }
   ],
   "source": [
    "w, _ = gauss_jordan(A, b)\n",
    "print(w)\n"
   ]
  }
 ],
 "metadata": {
  "kernelspec": {
   "display_name": ".venv (3.13.7)",
   "language": "python",
   "name": "python3"
  },
  "language_info": {
   "codemirror_mode": {
    "name": "ipython",
    "version": 3
   },
   "file_extension": ".py",
   "mimetype": "text/x-python",
   "name": "python",
   "nbconvert_exporter": "python",
   "pygments_lexer": "ipython3",
   "version": "3.13.7"
  }
 },
 "nbformat": 4,
 "nbformat_minor": 5
}
