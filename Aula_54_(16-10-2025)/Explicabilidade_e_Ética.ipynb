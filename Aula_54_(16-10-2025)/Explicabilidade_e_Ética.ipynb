{
 "cells": [
  {
   "cell_type": "markdown",
   "id": "b11c8059",
   "metadata": {},
   "source": [
    "# AULA 54 - EXPLICABILIDADE E ÉTICA (16-10-2025)"
   ]
  },
  {
   "cell_type": "markdown",
   "id": "915aa65d",
   "metadata": {},
   "source": [
    "Alan Diek Guimarães"
   ]
  },
  {
   "cell_type": "markdown",
   "id": "9ac4dd44",
   "metadata": {},
   "source": [
    "## Explicabilidade"
   ]
  },
  {
   "cell_type": "markdown",
   "id": "43a9b29a",
   "metadata": {},
   "source": [
    "Treinar um modelo"
   ]
  },
  {
   "cell_type": "code",
   "execution_count": 5,
   "id": "12ab9c7e",
   "metadata": {},
   "outputs": [],
   "source": [
    "import pandas as pd\n",
    "import numpy as np\n",
    "from sklearn.model_selection import train_test_split\n",
    "from sklearn.preprocessing import StandardScaler\n",
    "from sklearn.preprocessing import LabelEncoder\n",
    "from tensorflow import keras\n",
    "from tensorflow.keras import layers, models\n"
   ]
  },
  {
   "cell_type": "code",
   "execution_count": null,
   "id": "7618c214",
   "metadata": {},
   "outputs": [],
   "source": [
    "# Tratar os dados\n",
    "\n",
    "# Ler os dados\n",
    "dados = pd.read_csv('churn.csv')\n",
    "\n",
    "# Preparar o encoding dos dados\n",
    "encoder = LabelEncoder()\n",
    "dados['Gender'] = encoder.fit_transform(dados['Gender'])\n",
    "dados['Subscription Type'] = encoder.fit_transform(dados['Subscription Type'])\n",
    "dados['Contract Length'] = encoder.fit_transform(dados['Contract Length'])\n",
    "\n",
    "# Separar o X e o y\n",
    "X = dados.drop('Churn', axis=1).values\n",
    "y = dados['Churn'].values\n",
    "\n",
    "# Normalizar os dados\n",
    "scaler = StandardScaler()\n",
    "X = scaler.fit_transform(X)\n",
    "\n",
    "# Dividir os dados em treino e teste\n",
    "X_train, X_test, y_train, y_test = train_test_split(X, y, test_size=0.2, random_state=42)\n"
   ]
  },
  {
   "cell_type": "code",
   "execution_count": 15,
   "id": "f94f660d",
   "metadata": {},
   "outputs": [
    {
     "name": "stdout",
     "output_type": "stream",
     "text": [
      "Epoch 1/30\n"
     ]
    },
    {
     "name": "stderr",
     "output_type": "stream",
     "text": [
      "c:\\Users\\84284528572\\Desktop\\GitHub\\Quarto_Semestre_Ciencia_de_Dados\\.venv\\Lib\\site-packages\\keras\\src\\layers\\core\\dense.py:92: UserWarning: Do not pass an `input_shape`/`input_dim` argument to a layer. When using Sequential models, prefer using an `Input(shape)` object as the first layer in the model instead.\n",
      "  super().__init__(activity_regularizer=activity_regularizer, **kwargs)\n"
     ]
    },
    {
     "name": "stdout",
     "output_type": "stream",
     "text": [
      "\u001b[1m2575/2575\u001b[0m \u001b[32m━━━━━━━━━━━━━━━━━━━━\u001b[0m\u001b[37m\u001b[0m \u001b[1m3s\u001b[0m 935us/step - accuracy: 0.8935 - loss: 0.2437 - val_accuracy: 0.9249 - val_loss: 0.1731\n",
      "Epoch 2/30\n",
      "\u001b[1m2575/2575\u001b[0m \u001b[32m━━━━━━━━━━━━━━━━━━━━\u001b[0m\u001b[37m\u001b[0m \u001b[1m2s\u001b[0m 895us/step - accuracy: 0.9316 - loss: 0.1623 - val_accuracy: 0.9396 - val_loss: 0.1423\n",
      "Epoch 3/30\n",
      "\u001b[1m2575/2575\u001b[0m \u001b[32m━━━━━━━━━━━━━━━━━━━━\u001b[0m\u001b[37m\u001b[0m \u001b[1m2s\u001b[0m 894us/step - accuracy: 0.9450 - loss: 0.1301 - val_accuracy: 0.9508 - val_loss: 0.1138\n",
      "Epoch 4/30\n",
      "\u001b[1m2575/2575\u001b[0m \u001b[32m━━━━━━━━━━━━━━━━━━━━\u001b[0m\u001b[37m\u001b[0m \u001b[1m2s\u001b[0m 892us/step - accuracy: 0.9583 - loss: 0.1020 - val_accuracy: 0.9642 - val_loss: 0.0910\n",
      "Epoch 5/30\n",
      "\u001b[1m2575/2575\u001b[0m \u001b[32m━━━━━━━━━━━━━━━━━━━━\u001b[0m\u001b[37m\u001b[0m \u001b[1m2s\u001b[0m 871us/step - accuracy: 0.9691 - loss: 0.0814 - val_accuracy: 0.9710 - val_loss: 0.0761\n",
      "Epoch 6/30\n",
      "\u001b[1m2575/2575\u001b[0m \u001b[32m━━━━━━━━━━━━━━━━━━━━\u001b[0m\u001b[37m\u001b[0m \u001b[1m2s\u001b[0m 881us/step - accuracy: 0.9736 - loss: 0.0691 - val_accuracy: 0.9743 - val_loss: 0.0664\n",
      "Epoch 7/30\n",
      "\u001b[1m2575/2575\u001b[0m \u001b[32m━━━━━━━━━━━━━━━━━━━━\u001b[0m\u001b[37m\u001b[0m \u001b[1m2s\u001b[0m 883us/step - accuracy: 0.9772 - loss: 0.0614 - val_accuracy: 0.9771 - val_loss: 0.0614\n",
      "Epoch 8/30\n",
      "\u001b[1m2575/2575\u001b[0m \u001b[32m━━━━━━━━━━━━━━━━━━━━\u001b[0m\u001b[37m\u001b[0m \u001b[1m2s\u001b[0m 878us/step - accuracy: 0.9783 - loss: 0.0560 - val_accuracy: 0.9780 - val_loss: 0.0567\n",
      "Epoch 9/30\n",
      "\u001b[1m2575/2575\u001b[0m \u001b[32m━━━━━━━━━━━━━━━━━━━━\u001b[0m\u001b[37m\u001b[0m \u001b[1m2s\u001b[0m 881us/step - accuracy: 0.9802 - loss: 0.0523 - val_accuracy: 0.9792 - val_loss: 0.0542\n",
      "Epoch 10/30\n",
      "\u001b[1m2575/2575\u001b[0m \u001b[32m━━━━━━━━━━━━━━━━━━━━\u001b[0m\u001b[37m\u001b[0m \u001b[1m2s\u001b[0m 903us/step - accuracy: 0.9809 - loss: 0.0500 - val_accuracy: 0.9797 - val_loss: 0.0515\n",
      "Epoch 11/30\n",
      "\u001b[1m2575/2575\u001b[0m \u001b[32m━━━━━━━━━━━━━━━━━━━━\u001b[0m\u001b[37m\u001b[0m \u001b[1m2s\u001b[0m 896us/step - accuracy: 0.9829 - loss: 0.0471 - val_accuracy: 0.9798 - val_loss: 0.0498\n",
      "Epoch 12/30\n",
      "\u001b[1m2575/2575\u001b[0m \u001b[32m━━━━━━━━━━━━━━━━━━━━\u001b[0m\u001b[37m\u001b[0m \u001b[1m2s\u001b[0m 868us/step - accuracy: 0.9836 - loss: 0.0445 - val_accuracy: 0.9817 - val_loss: 0.0466\n",
      "Epoch 13/30\n",
      "\u001b[1m2575/2575\u001b[0m \u001b[32m━━━━━━━━━━━━━━━━━━━━\u001b[0m\u001b[37m\u001b[0m \u001b[1m2s\u001b[0m 871us/step - accuracy: 0.9846 - loss: 0.0418 - val_accuracy: 0.9818 - val_loss: 0.0471\n",
      "Epoch 14/30\n",
      "\u001b[1m2575/2575\u001b[0m \u001b[32m━━━━━━━━━━━━━━━━━━━━\u001b[0m\u001b[37m\u001b[0m \u001b[1m2s\u001b[0m 873us/step - accuracy: 0.9848 - loss: 0.0406 - val_accuracy: 0.9834 - val_loss: 0.0434\n",
      "Epoch 15/30\n",
      "\u001b[1m2575/2575\u001b[0m \u001b[32m━━━━━━━━━━━━━━━━━━━━\u001b[0m\u001b[37m\u001b[0m \u001b[1m2s\u001b[0m 861us/step - accuracy: 0.9857 - loss: 0.0384 - val_accuracy: 0.9835 - val_loss: 0.0425\n",
      "Epoch 16/30\n",
      "\u001b[1m2575/2575\u001b[0m \u001b[32m━━━━━━━━━━━━━━━━━━━━\u001b[0m\u001b[37m\u001b[0m \u001b[1m2s\u001b[0m 868us/step - accuracy: 0.9858 - loss: 0.0372 - val_accuracy: 0.9840 - val_loss: 0.0410\n",
      "Epoch 17/30\n",
      "\u001b[1m2575/2575\u001b[0m \u001b[32m━━━━━━━━━━━━━━━━━━━━\u001b[0m\u001b[37m\u001b[0m \u001b[1m2s\u001b[0m 878us/step - accuracy: 0.9864 - loss: 0.0358 - val_accuracy: 0.9842 - val_loss: 0.0395\n",
      "Epoch 18/30\n",
      "\u001b[1m2575/2575\u001b[0m \u001b[32m━━━━━━━━━━━━━━━━━━━━\u001b[0m\u001b[37m\u001b[0m \u001b[1m2s\u001b[0m 871us/step - accuracy: 0.9870 - loss: 0.0347 - val_accuracy: 0.9844 - val_loss: 0.0415\n",
      "Epoch 19/30\n",
      "\u001b[1m2575/2575\u001b[0m \u001b[32m━━━━━━━━━━━━━━━━━━━━\u001b[0m\u001b[37m\u001b[0m \u001b[1m2s\u001b[0m 896us/step - accuracy: 0.9873 - loss: 0.0340 - val_accuracy: 0.9825 - val_loss: 0.0437\n",
      "Epoch 20/30\n",
      "\u001b[1m2575/2575\u001b[0m \u001b[32m━━━━━━━━━━━━━━━━━━━━\u001b[0m\u001b[37m\u001b[0m \u001b[1m2s\u001b[0m 877us/step - accuracy: 0.9879 - loss: 0.0329 - val_accuracy: 0.9835 - val_loss: 0.0408\n",
      "Epoch 21/30\n",
      "\u001b[1m2575/2575\u001b[0m \u001b[32m━━━━━━━━━━━━━━━━━━━━\u001b[0m\u001b[37m\u001b[0m \u001b[1m2s\u001b[0m 866us/step - accuracy: 0.9873 - loss: 0.0324 - val_accuracy: 0.9851 - val_loss: 0.0408\n",
      "Epoch 22/30\n",
      "\u001b[1m2575/2575\u001b[0m \u001b[32m━━━━━━━━━━━━━━━━━━━━\u001b[0m\u001b[37m\u001b[0m \u001b[1m2s\u001b[0m 867us/step - accuracy: 0.9882 - loss: 0.0309 - val_accuracy: 0.9865 - val_loss: 0.0375\n",
      "Epoch 23/30\n",
      "\u001b[1m2575/2575\u001b[0m \u001b[32m━━━━━━━━━━━━━━━━━━━━\u001b[0m\u001b[37m\u001b[0m \u001b[1m2s\u001b[0m 875us/step - accuracy: 0.9881 - loss: 0.0303 - val_accuracy: 0.9864 - val_loss: 0.0336\n",
      "Epoch 24/30\n",
      "\u001b[1m2575/2575\u001b[0m \u001b[32m━━━━━━━━━━━━━━━━━━━━\u001b[0m\u001b[37m\u001b[0m \u001b[1m2s\u001b[0m 871us/step - accuracy: 0.9884 - loss: 0.0292 - val_accuracy: 0.9856 - val_loss: 0.0342\n",
      "Epoch 25/30\n",
      "\u001b[1m2575/2575\u001b[0m \u001b[32m━━━━━━━━━━━━━━━━━━━━\u001b[0m\u001b[37m\u001b[0m \u001b[1m2s\u001b[0m 867us/step - accuracy: 0.9885 - loss: 0.0293 - val_accuracy: 0.9864 - val_loss: 0.0354\n",
      "Epoch 26/30\n",
      "\u001b[1m2575/2575\u001b[0m \u001b[32m━━━━━━━━━━━━━━━━━━━━\u001b[0m\u001b[37m\u001b[0m \u001b[1m2s\u001b[0m 874us/step - accuracy: 0.9891 - loss: 0.0281 - val_accuracy: 0.9879 - val_loss: 0.0331\n",
      "Epoch 27/30\n",
      "\u001b[1m2575/2575\u001b[0m \u001b[32m━━━━━━━━━━━━━━━━━━━━\u001b[0m\u001b[37m\u001b[0m \u001b[1m2s\u001b[0m 864us/step - accuracy: 0.9896 - loss: 0.0264 - val_accuracy: 0.9866 - val_loss: 0.0350\n",
      "Epoch 28/30\n",
      "\u001b[1m2575/2575\u001b[0m \u001b[32m━━━━━━━━━━━━━━━━━━━━\u001b[0m\u001b[37m\u001b[0m \u001b[1m2s\u001b[0m 880us/step - accuracy: 0.9897 - loss: 0.0255 - val_accuracy: 0.9883 - val_loss: 0.0300\n",
      "Epoch 29/30\n",
      "\u001b[1m2575/2575\u001b[0m \u001b[32m━━━━━━━━━━━━━━━━━━━━\u001b[0m\u001b[37m\u001b[0m \u001b[1m2s\u001b[0m 878us/step - accuracy: 0.9908 - loss: 0.0245 - val_accuracy: 0.9864 - val_loss: 0.0354\n",
      "Epoch 30/30\n",
      "\u001b[1m2575/2575\u001b[0m \u001b[32m━━━━━━━━━━━━━━━━━━━━\u001b[0m\u001b[37m\u001b[0m \u001b[1m2s\u001b[0m 886us/step - accuracy: 0.9913 - loss: 0.0233 - val_accuracy: 0.9868 - val_loss: 0.0352\n"
     ]
    },
    {
     "data": {
      "text/plain": [
       "<keras.src.callbacks.history.History at 0x16212219090>"
      ]
     },
     "execution_count": 15,
     "metadata": {},
     "output_type": "execute_result"
    }
   ],
   "source": [
    "#Criar uma rede neural\n",
    "\n",
    "modelo = models.Sequential(\n",
    "    [\n",
    "        layers.Dense(32, activation='relu', input_shape=(X_train.shape[1],)),\n",
    "        layers.Dense(16, activation='relu'),\n",
    "        layers.Dense(1, activation='sigmoid') # Saída binária (Se Churn ou não-Churn)\n",
    "    ]\n",
    ")\n",
    "\n",
    "# Compilando o modelo\n",
    "modelo.compile(\n",
    "    optimizer='adam', \n",
    "    loss='binary_crossentropy', \n",
    "    metrics=['accuracy']\n",
    ")\n",
    "\n",
    "# Treinando o modelo\n",
    "modelo.fit(\n",
    "    X_train, \n",
    "    y_train, \n",
    "    epochs=30, \n",
    "    batch_size=16, \n",
    "    validation_split=0.2\n",
    "    \n",
    ")\n"
   ]
  },
  {
   "cell_type": "code",
   "execution_count": 16,
   "id": "d6e7af16",
   "metadata": {},
   "outputs": [
    {
     "name": "stdout",
     "output_type": "stream",
     "text": [
      "\u001b[1m403/403\u001b[0m \u001b[32m━━━━━━━━━━━━━━━━━━━━\u001b[0m\u001b[37m\u001b[0m \u001b[1m0s\u001b[0m 657us/step - accuracy: 0.9886 - loss: 0.0334\n"
     ]
    },
    {
     "name": "stderr",
     "output_type": "stream",
     "text": [
      "WARNING:absl:You are saving your model as an HDF5 file via `model.save()` or `keras.saving.save_model(model)`. This file format is considered legacy. We recommend using instead the native Keras format, e.g. `model.save('my_model.keras')` or `keras.saving.save_model(model, 'my_model.keras')`. \n"
     ]
    },
    {
     "name": "stdout",
     "output_type": "stream",
     "text": [
      "\n",
      "Acurácia no meu dado de teste: 0.99%\n"
     ]
    }
   ],
   "source": [
    "# Avaliação do conjunto de teste\n",
    "\n",
    "loss, acc = modelo.evaluate(X_test, y_test)\n",
    "print(f'\\nAcurácia no meu dado de teste: {acc:.2f}%')\n",
    "\n",
    "\n",
    "# Salvando o modelo\n",
    "modelo.save('modelo_churn_(Alan_Diek).h5')"
   ]
  },
  {
   "cell_type": "code",
   "execution_count": 19,
   "id": "8f4c21d0",
   "metadata": {},
   "outputs": [
    {
     "name": "stderr",
     "output_type": "stream",
     "text": [
      "WARNING:absl:Compiled the loaded model, but the compiled metrics have yet to be built. `model.compile_metrics` will be empty until you train or evaluate the model.\n"
     ]
    }
   ],
   "source": [
    "from tensorflow.keras.models import load_model\n",
    "\n",
    "# Carregando o modelo\n",
    "modelo2 = load_model('modelo_churn_(Alan_Diek).h5')"
   ]
  },
  {
   "cell_type": "code",
   "execution_count": 26,
   "id": "593ee52c",
   "metadata": {},
   "outputs": [
    {
     "name": "stdout",
     "output_type": "stream",
     "text": [
      "\u001b[1m1/1\u001b[0m \u001b[32m━━━━━━━━━━━━━━━━━━━━\u001b[0m\u001b[37m\u001b[0m \u001b[1m0s\u001b[0m 30ms/step\n",
      "\n",
      "Resultado esperado: 1\n",
      "\n",
      "Predição do modelo: 1.00\n"
     ]
    }
   ],
   "source": [
    "exemplo = dados.drop('Churn', axis=1).iloc[0].values\n",
    "\n",
    "resultado_esperado = dados['Churn'].iloc[0]\n",
    "entrada = np.array(exemplo).reshape(1, -1)\n",
    "\n",
    "predicao = modelo2.predict(entrada)\n",
    "\n",
    "print(f'\\nResultado esperado: {resultado_esperado}')\n",
    "print(f'\\nPredição do modelo: {predicao[0][0]:.2f}')"
   ]
  }
 ],
 "metadata": {
  "kernelspec": {
   "display_name": ".venv (3.13.7)",
   "language": "python",
   "name": "python3"
  },
  "language_info": {
   "codemirror_mode": {
    "name": "ipython",
    "version": 3
   },
   "file_extension": ".py",
   "mimetype": "text/x-python",
   "name": "python",
   "nbconvert_exporter": "python",
   "pygments_lexer": "ipython3",
   "version": "3.13.7"
  }
 },
 "nbformat": 4,
 "nbformat_minor": 5
}
