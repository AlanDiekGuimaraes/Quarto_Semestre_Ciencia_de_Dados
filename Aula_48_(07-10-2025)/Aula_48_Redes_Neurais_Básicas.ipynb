{
 "cells": [
  {
   "cell_type": "markdown",
   "id": "53110549",
   "metadata": {},
   "source": [
    "# Aula 48 - Redes Neurais Básicas (07/10/2025)"
   ]
  },
  {
   "cell_type": "markdown",
   "id": "8de7d696",
   "metadata": {},
   "source": [
    "Alan Diek da Silva Guimarães"
   ]
  },
  {
   "cell_type": "code",
   "execution_count": 18,
   "id": "31ac962e",
   "metadata": {},
   "outputs": [
    {
     "name": "stdout",
     "output_type": "stream",
     "text": [
      "Teste 1\n",
      "-> Entradas: X1 = 0, X2 = 1\n",
      "-> Soma ponderada: 1\n",
      "Limiar (T): 0.5. Saída: 1\n",
      "\n",
      "Teste 2\n",
      "-> Entradas: X1 = 1, X2 = 2\n",
      "-> Soma ponderada: 3\n",
      "Limiar (T): 0.5. Saída: 1\n",
      "\n",
      "Teste 3\n",
      "-> Entradas: X1 = 0, X2 = 0\n",
      "-> Soma ponderada: 0\n",
      "Limiar (T): 0.5. Saída: 0\n",
      "\n",
      "Teste 4\n",
      "-> Entradas: X1 = 1, X2 = 1\n",
      "-> Soma ponderada: 2\n",
      "Limiar (T): 0.5. Saída: 1\n",
      "\n",
      "Teste 5\n",
      "-> Entradas: X1 = 2, X2 = 2\n",
      "-> Soma ponderada: 4\n",
      "Limiar (T): 0.5. Saída: 1\n",
      "\n",
      "Teste 6\n",
      "-> Entradas: X1 = 0, X2 = 2\n",
      "-> Soma ponderada: 2\n",
      "Limiar (T): 0.5. Saída: 1\n",
      "\n",
      "Teste 7\n",
      "-> Entradas: X1 = 2, X2 = 0\n",
      "-> Soma ponderada: 2\n",
      "Limiar (T): 0.5. Saída: 1\n",
      "\n",
      "Teste 8\n",
      "-> Entradas: X1 = 0, X2 = 0.5\n",
      "-> Soma ponderada: 0.5\n",
      "Limiar (T): 0.5. Saída: 0\n",
      "\n",
      "Teste 9\n",
      "-> Entradas: X1 = 0.5, X2 = 0\n",
      "-> Soma ponderada: 0.5\n",
      "Limiar (T): 0.5. Saída: 0\n",
      "\n",
      "Teste 10\n",
      "-> Entradas: X1 = 0.5, X2 = 0.5\n",
      "-> Soma ponderada: 1.0\n",
      "Limiar (T): 0.5. Saída: 1\n",
      "\n"
     ]
    },
    {
     "data": {
      "text/plain": [
       "1"
      ]
     },
     "execution_count": 18,
     "metadata": {},
     "output_type": "execute_result"
    }
   ],
   "source": [
    "def neuronio_simples_or(entrada_x1, entrada_x2):\n",
    "    \"\"\"Implementa um neurônio simples que simula a função lógica OR.\"\"\"\n",
    "    \n",
    "    # Definir pesos e limiar\n",
    "    # Peso 1 w1 definir a importância da primeira entrada (X1), e w2 da entrada X2\n",
    "    \n",
    "    w1 = 1 # peso 1\n",
    "    w2 = 1 # peso 2\n",
    "    \n",
    "    # Limite é o valor mínimo que a soma precisa atingir para \"disparar\" o neurônio\n",
    "    limiar = 0.5 \n",
    "    \n",
    "    # Processamento dos valores de entrada \n",
    "    print(f'-> Entradas: X1 = {entrada_x1}, X2 = {entrada_x2}')\n",
    "\n",
    "    # Cálculo da soma ponderada com base nos valores de entrada multiplicado pelos pesos.\n",
    "    soma_ponderada = (entrada_x1 * w1) + (entrada_x2 * w2)\n",
    "    print(f'-> Soma ponderada: {soma_ponderada}')\n",
    "    \n",
    "    # Função de ativação onde verifica se a soma ponderada ultrapassa o limiar\n",
    "    if soma_ponderada > limiar:\n",
    "        saida = 1\n",
    "    else:\n",
    "        saida = 0\n",
    "    \n",
    "    # Resultado do valor da limiar e da saída\n",
    "    print(f\"Limiar (T): {limiar}. Saída: {saida}\\n\")\n",
    "    return saida # Retorna a saída do neurônio\n",
    "\n",
    "print(\"Teste 1\")\n",
    "neuronio_simples_or(0,1)\n",
    "\n",
    "print(\"Teste 2\")\n",
    "neuronio_simples_or(1,2)\n",
    "\n",
    "print(\"Teste 3\")\n",
    "neuronio_simples_or(0,0)\n",
    "\n",
    "print(\"Teste 4\")\n",
    "neuronio_simples_or(1,1)\n",
    "\n",
    "print(\"Teste 5\")\n",
    "neuronio_simples_or(2,2)\n",
    "\n",
    "print(\"Teste 6\")\n",
    "neuronio_simples_or(0,2)\n",
    "\n",
    "print(\"Teste 7\")\n",
    "neuronio_simples_or(2,0)\n",
    "\n",
    "print(\"Teste 8\")\n",
    "neuronio_simples_or(0,0.5)\n",
    "\n",
    "print(\"Teste 9\")\n",
    "neuronio_simples_or(0.5,0)\n",
    "\n",
    "print(\"Teste 10\")\n",
    "neuronio_simples_or(0.5,0.5)"
   ]
  }
 ],
 "metadata": {
  "kernelspec": {
   "display_name": ".venv (3.13.7)",
   "language": "python",
   "name": "python3"
  },
  "language_info": {
   "codemirror_mode": {
    "name": "ipython",
    "version": 3
   },
   "file_extension": ".py",
   "mimetype": "text/x-python",
   "name": "python",
   "nbconvert_exporter": "python",
   "pygments_lexer": "ipython3",
   "version": "3.13.7"
  }
 },
 "nbformat": 4,
 "nbformat_minor": 5
}
