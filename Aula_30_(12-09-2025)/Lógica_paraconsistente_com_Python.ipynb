{
 "cells": [
  {
   "cell_type": "markdown",
   "id": "76937b09",
   "metadata": {},
   "source": [
    "# Lógica paraconsistente com Python"
   ]
  },
  {
   "cell_type": "markdown",
   "id": "35357bea",
   "metadata": {},
   "source": [
    "Método paraconsistente de DeciSão (MPD) em Python\n",
    "\n",
    "Passo a passo para entender e aplicar o MPD em Python."
   ]
  },
  {
   "cell_type": "markdown",
   "id": "0e4779d3",
   "metadata": {},
   "source": [
    "## Bloco 1 - Introdução."
   ]
  },
  {
   "cell_type": "markdown",
   "id": "971feef9",
   "metadata": {},
   "source": [
    "No MPD, cada informação representa 2 valores.\n",
    "\n",
    "* a -> Grau de evidência favorável (crença) (certeza)\n",
    "* b -> Grau de evidência contrária (descrença) (incerteza)\n",
    "\n",
    "Esses valores ficam sempre **0 e 1**"
   ]
  },
  {
   "cell_type": "code",
   "execution_count": 14,
   "id": "365706ce",
   "metadata": {},
   "outputs": [
    {
     "name": "stdout",
     "output_type": "stream",
     "text": [
      "Grau de crença (a): 0.8\n",
      "Grau de descrença (b): 0.3\n"
     ]
    }
   ],
   "source": [
    "\"(λ) Lambda\"\n",
    "\"(μ) Mu\"\n",
    "'''Exemplo de anotação paraconsistente\n",
    "\n",
    "a = grau de crença (0 a 1)\n",
    "\n",
    "b = grau de descrença (0 a 1)'''\n",
    "\n",
    "a = 0.8 # 80% de confiança que é verdadeiro\n",
    "b = 0.3 # 30% de confiança que é falso\n",
    "\n",
    "print(f'Grau de crença (a): {a}')\n",
    "print(f'Grau de descrença (b): {b}')\n"
   ]
  },
  {
   "cell_type": "markdown",
   "id": "55ec33aa",
   "metadata": {},
   "source": [
    "* Se A == 1 e B == 0 -> certeza que é verdadeiro.\n",
    "* Se A == 0 e B == 1 -> certeza que é falso.\n",
    "* Se os dois são altos -> Contradição.\n",
    "* Se os decisão baixos -> inconsistência  (falta de informação)."
   ]
  },
  {
   "cell_type": "markdown",
   "id": "88c5b45b",
   "metadata": {},
   "source": [
    "## Bloco 2 - Grau de Certeza (Gc)"
   ]
  },
  {
   "cell_type": "markdown",
   "id": "29a020d2",
   "metadata": {},
   "source": [
    "Equação: [Gc = a - b]\n",
    "\n",
    "* Se Gc > 0 -> mais tendencia para verdadeiro.\n",
    "* Se Gc < 0 -> mais tendencia para falso.\n",
    "* Se Gc = 0 -> indecisão.\n",
    "\n",
    "\n"
   ]
  },
  {
   "cell_type": "code",
   "execution_count": 18,
   "id": "cf92466f",
   "metadata": {},
   "outputs": [
    {
     "name": "stdout",
     "output_type": "stream",
     "text": [
      "Grau de Certeza (Gc): 0.50\n"
     ]
    }
   ],
   "source": [
    "def grau_certeza(a, b):\n",
    "    \"\"\"Calcula o grau de certeza (Gc) baseado nos valores de a e b.\"\"\"\n",
    "    return a - b\n",
    "\n",
    "Gc = grau_certeza(a, b)\n",
    "print(f'Grau de Certeza (Gc): {Gc:.2f}')"
   ]
  },
  {
   "cell_type": "markdown",
   "id": "5592bc2b",
   "metadata": {},
   "source": [
    "## Bloco 3 - Grau de contradição (Gct)"
   ]
  },
  {
   "cell_type": "markdown",
   "id": "91b59a4e",
   "metadata": {},
   "source": [
    "Equação: [Gct = a + b - 1]\n",
    "\n",
    "* Se Gct = 0 -> Sem contradição.\n",
    "* Se Gct > 0 -> Há contradição (crença e descrença altos).\n",
    "* Se Gct < 0 -> Falta de informação."
   ]
  },
  {
   "cell_type": "code",
   "execution_count": 19,
   "id": "978401b6",
   "metadata": {},
   "outputs": [
    {
     "name": "stdout",
     "output_type": "stream",
     "text": [
      "Grau de Contradição (Gct): 0.10\n"
     ]
    }
   ],
   "source": [
    "def grau_contradição(a, b):\n",
    "    \"\"\"Calcula o grau de contradição (Gct) baseado nos valores de a e b.\"\"\"\n",
    "    return a + b - 1\n",
    "\n",
    "Gct = grau_contradição(a, b)\n",
    "print(f'Grau de Contradição (Gct): {Gct:.2f}')\n"
   ]
  },
  {
   "cell_type": "markdown",
   "id": "3ac2bf9d",
   "metadata": {},
   "source": [
    "## Bloco 4 - Nó de analise paraconsistente (NAP)"
   ]
  },
  {
   "cell_type": "markdown",
   "id": "cd14fff4",
   "metadata": {},
   "source": [
    "* O NAP recebe (a, b) e devolve (Gc, Gct)"
   ]
  },
  {
   "cell_type": "code",
   "execution_count": null,
   "id": "3c425e6b",
   "metadata": {},
   "outputs": [
    {
     "name": "stdout",
     "output_type": "stream",
     "text": [
      "Grau de Certeza (Gc): 0.50 / Grau de Contradição (Gct): 0.10\n"
     ]
    }
   ],
   "source": [
    "def NAP(a, b):\n",
    "    Gc = a - b\n",
    "    Gct = a + b - 1\n",
    "    return Gc, Gct\n",
    "\n",
    "Gc, Gct = NAP(a, b)\n",
    "print(f'Grau de Certeza (Gc): {Gc:.2f} / Grau de Contradição (Gct): {Gct:.2f}')\n"
   ]
  },
  {
   "cell_type": "markdown",
   "id": "c5e0fa18",
   "metadata": {},
   "source": [
    "## Bloco 5 - Operadores OR e AND"
   ]
  },
  {
   "cell_type": "markdown",
   "id": "b5be4277",
   "metadata": {},
   "source": [
    "### * OR(maximização): escolhe os maiores valores de crença e descrença.\n",
    "\n",
    "### * AND(minimização): Escolhe os menores valores."
   ]
  },
  {
   "cell_type": "code",
   "execution_count": 24,
   "id": "2c1a0cae",
   "metadata": {},
   "outputs": [
    {
     "name": "stdout",
     "output_type": "stream",
     "text": [
      "Opiniões: [(0.8, 0.3), (0.6, 0.5)]\n",
      "OR: (0.8, 0.5)\n",
      "AND: (0.6, 0.3)\n"
     ]
    }
   ],
   "source": [
    "from typing import List, Tuple\n",
    "\n",
    "def OR(pares: List[Tuple[float, float]]) -> Tuple[float, float]:\n",
    "    \"\"\"Operador OR (maximização) para uma lista de pares (a, b).\"\"\"\n",
    "    a_valores = [a for a, b in pares]\n",
    "    b_valores = [b for a, b in pares]\n",
    "    return max(a_valores), max(b_valores)\n",
    "\n",
    "def AND(pares: List[Tuple[float, float]]) -> Tuple[float, float]:\n",
    "    \"\"\"Operador AND (minimização) para uma lista de pares (a, b).\"\"\"\n",
    "    a_valores = [a for a, b in pares]\n",
    "    b_valores = [b for a, b in pares]\n",
    "    return min(a_valores), min(b_valores)\n",
    "\n",
    "pares = [(0.8, 0.3), (0.6, 0.5)]\n",
    "print(f'Opiniões: {pares}')\n",
    "print(f'OR: {OR(pares)}')\n",
    "print(f'AND: {AND(pares)}')"
   ]
  },
  {
   "cell_type": "markdown",
   "id": "038d3642",
   "metadata": {},
   "source": [
    "## Bloco 6 - Tomada de decisão com Nível de exigência. (NE)"
   ]
  },
  {
   "cell_type": "markdown",
   "id": "d19e58c6",
   "metadata": {},
   "source": [
    "Definir um linear de nível de exigência, neste exemplo será 70% (NE = 0.7). \n",
    "* Se Gc >= NE -> Decisão é favorável. \n",
    "* Se Gc <= -NE -> Decisão é desfavorável.\n",
    "* Caso contrário -> Não conclusivo."
   ]
  },
  {
   "cell_type": "code",
   "execution_count": 27,
   "id": "1f750e53",
   "metadata": {},
   "outputs": [
    {
     "name": "stdout",
     "output_type": "stream",
     "text": [
      "Grau de Certeza (Gc): 0.30\n",
      "Decisão: Não conclusivo.\n"
     ]
    }
   ],
   "source": [
    "def decide(Gc, NE=0.7):\n",
    "    \"\"\"Toma uma decisão baseada no grau de certeza (Gc) e nível de exigência (NE).\"\"\"\n",
    "    if Gc >= NE:\n",
    "        return \"Favorável.\"\n",
    "    elif Gc <= -NE:\n",
    "        return \"Desfavorável.\"\n",
    "    else:\n",
    "        return \"Não conclusivo.\"\n",
    "\n",
    "Gc, Gct = NAP(*OR(pares))\n",
    "print(f'Grau de Certeza (Gc): {Gc:.2f}')\n",
    "print(f'Decisão: {decide(Gc, NE=0.7)}')"
   ]
  }
 ],
 "metadata": {
  "kernelspec": {
   "display_name": ".venv (3.13.7)",
   "language": "python",
   "name": "python3"
  },
  "language_info": {
   "codemirror_mode": {
    "name": "ipython",
    "version": 3
   },
   "file_extension": ".py",
   "mimetype": "text/x-python",
   "name": "python",
   "nbconvert_exporter": "python",
   "pygments_lexer": "ipython3",
   "version": "3.13.7"
  }
 },
 "nbformat": 4,
 "nbformat_minor": 5
}
