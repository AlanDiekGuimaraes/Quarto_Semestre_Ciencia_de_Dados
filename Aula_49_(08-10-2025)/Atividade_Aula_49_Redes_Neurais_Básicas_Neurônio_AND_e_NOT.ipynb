{
 "cells": [
  {
   "cell_type": "markdown",
   "id": "53110549",
   "metadata": {},
   "source": [
    "# Aula 49 - Redes Neurais Básicas (08/10/2025)"
   ]
  },
  {
   "cell_type": "markdown",
   "id": "8de7d696",
   "metadata": {},
   "source": [
    "Alan Diek da Silva Guimarães"
   ]
  },
  {
   "cell_type": "markdown",
   "id": "5705a8be",
   "metadata": {},
   "source": [
    "Atividade:\n",
    "Criar 2 neurônios com base na aula de ontem, que ao invés de fazer a operação OR, faça a operação AND e NOT respectivamente."
   ]
  },
  {
   "cell_type": "code",
   "execution_count": 2,
   "id": "a9e9a6d1",
   "metadata": {},
   "outputs": [
    {
     "name": "stdout",
     "output_type": "stream",
     "text": [
      "Teste 1\n",
      "-> Entradas: X1 = 0, X2 = 1\n",
      "-> Soma ponderada: 1\n",
      "Limiar (T): 0.5. Saída: 1\n",
      "\n"
     ]
    },
    {
     "data": {
      "text/plain": [
       "1"
      ]
     },
     "execution_count": 2,
     "metadata": {},
     "output_type": "execute_result"
    }
   ],
   "source": [
    "def neuronio_simples_or(entrada_x1, entrada_x2):\n",
    "    \"\"\"Implementa um neurônio simples que simula a função lógica OR.\"\"\"\n",
    "    \n",
    "    # Definir pesos e limiar\n",
    "    # Peso 1 w1 definir a importância da primeira entrada (X1), e w2 da entrada X2\n",
    "    \n",
    "    w1 = 1 # peso 1\n",
    "    w2 = 1 # peso 2\n",
    "    \n",
    "    # Limite é o valor mínimo que a soma precisa atingir para \"disparar\" o neurônio\n",
    "    limiar = 0.5 \n",
    "    \n",
    "    # Processamento dos valores de entrada \n",
    "    print(f'-> Entradas: X1 = {entrada_x1}, X2 = {entrada_x2}')\n",
    "\n",
    "    # Cálculo da soma ponderada com base nos valores de entrada multiplicado pelos pesos.\n",
    "    soma_ponderada = (entrada_x1 * w1) + (entrada_x2 * w2)\n",
    "    print(f'-> Soma ponderada: {soma_ponderada}')\n",
    "    \n",
    "    # Função de ativação onde verifica se a soma ponderada ultrapassa o limiar\n",
    "    if soma_ponderada > limiar:\n",
    "        saida = 1\n",
    "    else:\n",
    "        saida = 0\n",
    "    \n",
    "    # Resultado do valor da limiar e da saída\n",
    "    print(f\"Limiar (T): {limiar}. Saída: {saida}\\n\")\n",
    "    return saida # Retorna a saída do neurônio\n",
    "\n",
    "# Testando o neurônio com diferentes entradas.\n",
    "print(\"Teste 1\")\n",
    "neuronio_simples_or(0, 1)\n"
   ]
  },
  {
   "cell_type": "code",
   "execution_count": 23,
   "id": "4affafa7",
   "metadata": {},
   "outputs": [],
   "source": [
    "def neuronio_simples_and(entrada_x1, entrada_x2):\n",
    "    \"\"\"Implementa um neurônio simples que simula a função lógica AND.\"\"\"\n",
    "    \n",
    "    # Definir pesos e limiar\n",
    "    w1 = 1 # peso 1\n",
    "    w2 = 1 # peso 2\n",
    "    \n",
    "    # Limite é o valor mínimo que a soma precisa atingir para \"disparar\" o neurônio\n",
    "    limiar = 1.5 \n",
    "    \n",
    "    # Processamento dos valores de entrada \n",
    "    print(f'-> Entradas: X1 = {entrada_x1}, X2 = {entrada_x2}')\n",
    "\n",
    "    # Cálculo da soma ponderada com base nos valores de entrada multiplicado pelos pesos.\n",
    "    soma_ponderada = (entrada_x1 * w1) + (entrada_x2 * w2)\n",
    "    print(f'-> Soma ponderada: {soma_ponderada}')\n",
    "    \n",
    "    # Função de ativação onde verifica se a soma ponderada ultrapassa o limiar\n",
    "    if soma_ponderada > limiar:\n",
    "        saida = 1\n",
    "    else:\n",
    "        saida = 0\n",
    "    \n",
    "    # Resultado do valor da limiar e da saída\n",
    "    print(f\"Limiar (T): {limiar}. Saída: {saida}\\n\")\n",
    "    return saida # Retorna a saída do neurônio"
   ]
  },
  {
   "cell_type": "code",
   "execution_count": 24,
   "id": "547f2a60",
   "metadata": {},
   "outputs": [
    {
     "name": "stdout",
     "output_type": "stream",
     "text": [
      "-> Entradas: X1 = 1, X2 = 1\n",
      "-> Soma ponderada: 2\n",
      "Limiar (T): 1.5. Saída: 1\n",
      "\n",
      "-> Entradas: X1 = 1, X2 = 0\n",
      "-> Soma ponderada: 1\n",
      "Limiar (T): 1.5. Saída: 0\n",
      "\n",
      "-> Entradas: X1 = 0, X2 = 1\n",
      "-> Soma ponderada: 1\n",
      "Limiar (T): 1.5. Saída: 0\n",
      "\n",
      "-> Entradas: X1 = 0, X2 = 0\n",
      "-> Soma ponderada: 0\n",
      "Limiar (T): 1.5. Saída: 0\n",
      "\n"
     ]
    },
    {
     "data": {
      "text/plain": [
       "0"
      ]
     },
     "execution_count": 24,
     "metadata": {},
     "output_type": "execute_result"
    }
   ],
   "source": [
    "\n",
    "neuronio_simples_and(1, 1)\n",
    "neuronio_simples_and(1, 0)\n",
    "neuronio_simples_and(0, 1)\n",
    "neuronio_simples_and(0, 0)"
   ]
  },
  {
   "cell_type": "code",
   "execution_count": 25,
   "id": "00cc2594",
   "metadata": {},
   "outputs": [],
   "source": [
    "def neuronio_simples_not(entrada_x):\n",
    "    \"\"\"Implementa um neurônio simples que simula a função lógica NOT.\"\"\"\n",
    "    # Definir pesos e limiar\n",
    "    w = -1 # peso negativo para inverter a entrada\n",
    "    limiar = -0.5 # Limite negativo porque nenhum valor positivo deve ativar o neurônio\n",
    "\n",
    "    # Processamento da entrada\n",
    "    print(f'-> Entrada: X = {entrada_x}')\n",
    "    soma_ponderada = entrada_x * w\n",
    "    print(f'-> Soma ponderada: {soma_ponderada}')\n",
    "\n",
    "    # Função de ativação\n",
    "    if soma_ponderada > limiar:\n",
    "        saida = 1\n",
    "    else:\n",
    "        saida = 0\n",
    "\n",
    "    print(f\"Limiar (T): {limiar}. Saída: {saida}\\n\")\n",
    "    return saida"
   ]
  },
  {
   "cell_type": "code",
   "execution_count": 26,
   "id": "988085cd",
   "metadata": {},
   "outputs": [
    {
     "name": "stdout",
     "output_type": "stream",
     "text": [
      "-> Entrada: X = 0\n",
      "-> Soma ponderada: 0\n",
      "Limiar (T): -0.5. Saída: 1\n",
      "\n",
      "-> Entrada: X = 1\n",
      "-> Soma ponderada: -1\n",
      "Limiar (T): -0.5. Saída: 0\n",
      "\n"
     ]
    },
    {
     "data": {
      "text/plain": [
       "0"
      ]
     },
     "execution_count": 26,
     "metadata": {},
     "output_type": "execute_result"
    }
   ],
   "source": [
    "neuronio_simples_not(0)\n",
    "neuronio_simples_not(1)"
   ]
  }
 ],
 "metadata": {
  "kernelspec": {
   "display_name": ".venv (3.13.7)",
   "language": "python",
   "name": "python3"
  },
  "language_info": {
   "codemirror_mode": {
    "name": "ipython",
    "version": 3
   },
   "file_extension": ".py",
   "mimetype": "text/x-python",
   "name": "python",
   "nbconvert_exporter": "python",
   "pygments_lexer": "ipython3",
   "version": "3.13.7"
  }
 },
 "nbformat": 4,
 "nbformat_minor": 5
}
